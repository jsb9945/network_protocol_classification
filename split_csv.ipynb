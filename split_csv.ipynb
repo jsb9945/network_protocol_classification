{
 "cells": [
  {
   "cell_type": "code",
   "execution_count": 1,
   "metadata": {},
   "outputs": [
    {
     "name": "stderr",
     "output_type": "stream",
     "text": [
      "/home/wkdtjdqls/.local/lib/python3.10/site-packages/scapy/layers/ipsec.py:512: CryptographyDeprecationWarning: TripleDES has been moved to cryptography.hazmat.decrepit.ciphers.algorithms.TripleDES and will be removed from this module in 48.0.0.\n",
      "  cipher=algorithms.TripleDES,\n",
      "/home/wkdtjdqls/.local/lib/python3.10/site-packages/scapy/layers/ipsec.py:516: CryptographyDeprecationWarning: TripleDES has been moved to cryptography.hazmat.decrepit.ciphers.algorithms.TripleDES and will be removed from this module in 48.0.0.\n",
      "  cipher=algorithms.TripleDES,\n"
     ]
    }
   ],
   "source": [
    "%matplotlib inline\n",
    "\n",
    "from scapy.all import *\n",
    "import pandas as pd\n",
    "import numpy as np\n",
    "import binascii\n",
    "import seaborn as sns\n",
    "from pcap_handler import *\n",
    "from PIL import Image\n",
    "\n",
    "sns.set(color_codes=True)\n",
    "\n",
    "pd.set_option('display.max_rows', None)\n",
    "pd.set_option('display.max_columns', None)"
   ]
  },
  {
   "cell_type": "code",
   "execution_count": 2,
   "metadata": {
    "scrolled": true
   },
   "outputs": [
    {
     "name": "stdout",
     "output_type": "stream",
     "text": [
      "/home/wkdtjdqls/anaconda3/envs/jsb/bin/python\n"
     ]
    }
   ],
   "source": [
    "import sys\n",
    "print(sys.executable)"
   ]
  },
  {
   "cell_type": "code",
   "execution_count": 3,
   "metadata": {},
   "outputs": [],
   "source": [
    "import pandas as pd\n",
    "import os\n",
    "\n",
    "def split_csv_into_chunks(input_file, protocol_name, chunk_size=5000, output_dir='payload_csv/split/'):\n",
    "    data = pd.read_csv(input_file)\n",
    "    protocol_output_dir = os.path.join(output_dir, protocol_name)\n",
    "    os.makedirs(protocol_output_dir, exist_ok=True)\n",
    "    total_rows = len(data)\n",
    "    num_chunks = (total_rows // chunk_size) + (1 if total_rows % chunk_size else 0)\n",
    "\n",
    "    for i in range(num_chunks):\n",
    "        chunk_data = data.iloc[i * chunk_size: (i + 1) * chunk_size]\n",
    "        output_file = os.path.join(protocol_output_dir, f'{protocol_name}_{i + 1}.csv')\n",
    "        chunk_data.to_csv(output_file, index=False)"
   ]
  },
  {
   "cell_type": "code",
   "execution_count": null,
   "metadata": {},
   "outputs": [],
   "source": []
  },
  {
   "cell_type": "code",
   "execution_count": 4,
   "metadata": {},
   "outputs": [],
   "source": [
    "input_csv_file = 'payload_csv/mqtt_payloads.csv'  #MQTT\n",
    "protocol_name = 'mqtt'\n",
    "split_csv_into_chunks(input_csv_file, protocol_name, chunk_size=5000) "
   ]
  },
  {
   "cell_type": "code",
   "execution_count": 5,
   "metadata": {},
   "outputs": [],
   "source": [
    "input_csv_file = 'payload_csv/http_payloads.csv'  #HTTP\n",
    "protocol_name = 'http'\n",
    "split_csv_into_chunks(input_csv_file, protocol_name, chunk_size=5000) "
   ]
  },
  {
   "cell_type": "code",
   "execution_count": 6,
   "metadata": {},
   "outputs": [],
   "source": [
    "input_csv_file = 'payload_csv/dns_payloads.csv'  #DNS\n",
    "protocol_name = 'dns'\n",
    "split_csv_into_chunks(input_csv_file, protocol_name, chunk_size=5000) "
   ]
  },
  {
   "cell_type": "code",
   "execution_count": 7,
   "metadata": {},
   "outputs": [],
   "source": [
    "input_csv_file = 'payload_csv/ssh_payloads.csv'  #SSH\n",
    "protocol_name = 'ssh'\n",
    "split_csv_into_chunks(input_csv_file, protocol_name, chunk_size=5000) "
   ]
  },
  {
   "cell_type": "code",
   "execution_count": 8,
   "metadata": {},
   "outputs": [],
   "source": [
    "input_csv_file = 'payload_csv/smtp_payloads.csv'  #SMTP\n",
    "protocol_name = 'smtp'\n",
    "split_csv_into_chunks(input_csv_file, protocol_name, chunk_size=5000) "
   ]
  },
  {
   "cell_type": "code",
   "execution_count": 9,
   "metadata": {},
   "outputs": [],
   "source": [
    "input_csv_file = 'payload_csv/rtp_payloads.csv'  #RTP\n",
    "protocol_name = 'rtp'\n",
    "split_csv_into_chunks(input_csv_file, protocol_name, chunk_size=5000) "
   ]
  },
  {
   "cell_type": "code",
   "execution_count": 10,
   "metadata": {},
   "outputs": [],
   "source": [
    "input_csv_file = 'payload_csv/nntp_payloads.csv'  #NNTP\n",
    "protocol_name = 'nntp'\n",
    "split_csv_into_chunks(input_csv_file, protocol_name, chunk_size=5000) "
   ]
  },
  {
   "cell_type": "code",
   "execution_count": 11,
   "metadata": {},
   "outputs": [],
   "source": [
    "input_csv_file = 'payload_csv/ftp_payloads.csv'  #FTP\n",
    "protocol_name = 'ftp'\n",
    "split_csv_into_chunks(input_csv_file, protocol_name, chunk_size=5000) "
   ]
  },
  {
   "cell_type": "code",
   "execution_count": null,
   "metadata": {},
   "outputs": [],
   "source": []
  }
 ],
 "metadata": {
  "kernelspec": {
   "display_name": "jsb",
   "language": "python",
   "name": "jsb"
  },
  "language_info": {
   "codemirror_mode": {
    "name": "ipython",
    "version": 3
   },
   "file_extension": ".py",
   "mimetype": "text/x-python",
   "name": "python",
   "nbconvert_exporter": "python",
   "pygments_lexer": "ipython3",
   "version": "3.10.14"
  }
 },
 "nbformat": 4,
 "nbformat_minor": 2
}
